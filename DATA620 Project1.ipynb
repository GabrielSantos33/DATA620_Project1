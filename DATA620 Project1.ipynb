{
 "cells": [
  {
   "cell_type": "markdown",
   "id": "0b8758b0",
   "metadata": {},
   "source": [
    "### DATA 620 Assignment: Project 1\n",
    "#### Gabriel Santos"
   ]
  },
  {
   "cell_type": "markdown",
   "id": "88d83cf6",
   "metadata": {},
   "source": [
    "### Introduction\n",
    "#### For this project we were asked to:\n",
    "\n",
    "- Identify and load a network dataset that has some categorical information available for each node.\n",
    "- For each of the nodes in the dataset, calculate degree centrality and eigenvector centrality.\n",
    "- Compare your centrality measures across your categorical groups."
   ]
  },
  {
   "cell_type": "markdown",
   "id": "8577075d",
   "metadata": {},
   "source": [
    "The data set consists of TV shows and movies available on Netflix as of 2019 from Kaggle https://www.kaggle.com/shivamb/netflix-shows. \n",
    "With the data set, we can measure the degree of centrality of nodes, such as TV shows and movies. We can analyze how the data differs between movies and TV shows made in the United States and those made outside the United States."
   ]
  },
  {
   "cell_type": "markdown",
   "id": "3d4ec996",
   "metadata": {},
   "source": [
    "#### Import libraries"
   ]
  },
  {
   "cell_type": "code",
   "execution_count": 1,
   "id": "96cb2d8c",
   "metadata": {},
   "outputs": [],
   "source": [
    "import networkx as nx\n",
    "import pandas as pd\n",
    "from numpy.random import seed\n",
    "from scipy.stats import t, sem\n",
    "from scipy import stats\n",
    "from math import sqrt\n",
    "from numpy import mean\n",
    "import random\n",
    "import numpy as np\n",
    "import matplotlib.pyplot as plt\n",
    "from matplotlib import style\n",
    "import seaborn as sns\n",
    "style.use('fivethirtyeight')\n",
    "%matplotlib inline"
   ]
  },
  {
   "cell_type": "markdown",
   "id": "87e05f49",
   "metadata": {},
   "source": [
    "#### Load Data"
   ]
  },
  {
   "cell_type": "code",
   "execution_count": 2,
   "id": "1a7c1734",
   "metadata": {},
   "outputs": [],
   "source": [
    "data = pd.read_csv(\"https://raw.githubusercontent.com/GabrielSantos33/DATA621_Project1/main/netflix_titles.csv\")"
   ]
  },
  {
   "cell_type": "code",
   "execution_count": 3,
   "id": "4879e0e3",
   "metadata": {
    "scrolled": true
   },
   "outputs": [
    {
     "data": {
      "text/html": [
       "<div>\n",
       "<style scoped>\n",
       "    .dataframe tbody tr th:only-of-type {\n",
       "        vertical-align: middle;\n",
       "    }\n",
       "\n",
       "    .dataframe tbody tr th {\n",
       "        vertical-align: top;\n",
       "    }\n",
       "\n",
       "    .dataframe thead th {\n",
       "        text-align: right;\n",
       "    }\n",
       "</style>\n",
       "<table border=\"1\" class=\"dataframe\">\n",
       "  <thead>\n",
       "    <tr style=\"text-align: right;\">\n",
       "      <th></th>\n",
       "      <th>show_id</th>\n",
       "      <th>type</th>\n",
       "      <th>title</th>\n",
       "      <th>director</th>\n",
       "      <th>cast</th>\n",
       "      <th>country</th>\n",
       "      <th>date_added</th>\n",
       "      <th>release_year</th>\n",
       "      <th>rating</th>\n",
       "      <th>duration</th>\n",
       "      <th>listed_in</th>\n",
       "      <th>description</th>\n",
       "    </tr>\n",
       "  </thead>\n",
       "  <tbody>\n",
       "    <tr>\n",
       "      <th>0</th>\n",
       "      <td>s1</td>\n",
       "      <td>Movie</td>\n",
       "      <td>Dick Johnson Is Dead</td>\n",
       "      <td>Kirsten Johnson</td>\n",
       "      <td>NaN</td>\n",
       "      <td>United States</td>\n",
       "      <td>September 25, 2021</td>\n",
       "      <td>2020</td>\n",
       "      <td>PG-13</td>\n",
       "      <td>90 min</td>\n",
       "      <td>Documentaries</td>\n",
       "      <td>As her father nears the end of his life, filmm...</td>\n",
       "    </tr>\n",
       "    <tr>\n",
       "      <th>1</th>\n",
       "      <td>s2</td>\n",
       "      <td>TV Show</td>\n",
       "      <td>Blood &amp; Water</td>\n",
       "      <td>NaN</td>\n",
       "      <td>Ama Qamata, Khosi Ngema, Gail Mabalane, Thaban...</td>\n",
       "      <td>South Africa</td>\n",
       "      <td>September 24, 2021</td>\n",
       "      <td>2021</td>\n",
       "      <td>TV-MA</td>\n",
       "      <td>2 Seasons</td>\n",
       "      <td>International TV Shows, TV Dramas, TV Mysteries</td>\n",
       "      <td>After crossing paths at a party, a Cape Town t...</td>\n",
       "    </tr>\n",
       "    <tr>\n",
       "      <th>2</th>\n",
       "      <td>s3</td>\n",
       "      <td>TV Show</td>\n",
       "      <td>Ganglands</td>\n",
       "      <td>Julien Leclercq</td>\n",
       "      <td>Sami Bouajila, Tracy Gotoas, Samuel Jouy, Nabi...</td>\n",
       "      <td>NaN</td>\n",
       "      <td>September 24, 2021</td>\n",
       "      <td>2021</td>\n",
       "      <td>TV-MA</td>\n",
       "      <td>1 Season</td>\n",
       "      <td>Crime TV Shows, International TV Shows, TV Act...</td>\n",
       "      <td>To protect his family from a powerful drug lor...</td>\n",
       "    </tr>\n",
       "    <tr>\n",
       "      <th>3</th>\n",
       "      <td>s4</td>\n",
       "      <td>TV Show</td>\n",
       "      <td>Jailbirds New Orleans</td>\n",
       "      <td>NaN</td>\n",
       "      <td>NaN</td>\n",
       "      <td>NaN</td>\n",
       "      <td>September 24, 2021</td>\n",
       "      <td>2021</td>\n",
       "      <td>TV-MA</td>\n",
       "      <td>1 Season</td>\n",
       "      <td>Docuseries, Reality TV</td>\n",
       "      <td>Feuds, flirtations and toilet talk go down amo...</td>\n",
       "    </tr>\n",
       "    <tr>\n",
       "      <th>4</th>\n",
       "      <td>s5</td>\n",
       "      <td>TV Show</td>\n",
       "      <td>Kota Factory</td>\n",
       "      <td>NaN</td>\n",
       "      <td>Mayur More, Jitendra Kumar, Ranjan Raj, Alam K...</td>\n",
       "      <td>India</td>\n",
       "      <td>September 24, 2021</td>\n",
       "      <td>2021</td>\n",
       "      <td>TV-MA</td>\n",
       "      <td>2 Seasons</td>\n",
       "      <td>International TV Shows, Romantic TV Shows, TV ...</td>\n",
       "      <td>In a city of coaching centers known to train I...</td>\n",
       "    </tr>\n",
       "  </tbody>\n",
       "</table>\n",
       "</div>"
      ],
      "text/plain": [
       "  show_id     type                  title         director  \\\n",
       "0      s1    Movie   Dick Johnson Is Dead  Kirsten Johnson   \n",
       "1      s2  TV Show          Blood & Water              NaN   \n",
       "2      s3  TV Show              Ganglands  Julien Leclercq   \n",
       "3      s4  TV Show  Jailbirds New Orleans              NaN   \n",
       "4      s5  TV Show           Kota Factory              NaN   \n",
       "\n",
       "                                                cast        country  \\\n",
       "0                                                NaN  United States   \n",
       "1  Ama Qamata, Khosi Ngema, Gail Mabalane, Thaban...   South Africa   \n",
       "2  Sami Bouajila, Tracy Gotoas, Samuel Jouy, Nabi...            NaN   \n",
       "3                                                NaN            NaN   \n",
       "4  Mayur More, Jitendra Kumar, Ranjan Raj, Alam K...          India   \n",
       "\n",
       "           date_added  release_year rating   duration  \\\n",
       "0  September 25, 2021          2020  PG-13     90 min   \n",
       "1  September 24, 2021          2021  TV-MA  2 Seasons   \n",
       "2  September 24, 2021          2021  TV-MA   1 Season   \n",
       "3  September 24, 2021          2021  TV-MA   1 Season   \n",
       "4  September 24, 2021          2021  TV-MA  2 Seasons   \n",
       "\n",
       "                                           listed_in  \\\n",
       "0                                      Documentaries   \n",
       "1    International TV Shows, TV Dramas, TV Mysteries   \n",
       "2  Crime TV Shows, International TV Shows, TV Act...   \n",
       "3                             Docuseries, Reality TV   \n",
       "4  International TV Shows, Romantic TV Shows, TV ...   \n",
       "\n",
       "                                         description  \n",
       "0  As her father nears the end of his life, filmm...  \n",
       "1  After crossing paths at a party, a Cape Town t...  \n",
       "2  To protect his family from a powerful drug lor...  \n",
       "3  Feuds, flirtations and toilet talk go down amo...  \n",
       "4  In a city of coaching centers known to train I...  "
      ]
     },
     "execution_count": 3,
     "metadata": {},
     "output_type": "execute_result"
    }
   ],
   "source": [
    "data.head()"
   ]
  },
  {
   "cell_type": "markdown",
   "id": "7fdd181f",
   "metadata": {},
   "source": [
    "#### Filter data"
   ]
  },
  {
   "cell_type": "code",
   "execution_count": 4,
   "id": "ef2eb22f",
   "metadata": {},
   "outputs": [],
   "source": [
    "df_domestic = data[data['country']== 'United States']\n",
    "df_inter = data[data['country'] != 'United States']"
   ]
  },
  {
   "cell_type": "code",
   "execution_count": 5,
   "id": "0a6f99d3",
   "metadata": {},
   "outputs": [
    {
     "data": {
      "text/html": [
       "<div>\n",
       "<style scoped>\n",
       "    .dataframe tbody tr th:only-of-type {\n",
       "        vertical-align: middle;\n",
       "    }\n",
       "\n",
       "    .dataframe tbody tr th {\n",
       "        vertical-align: top;\n",
       "    }\n",
       "\n",
       "    .dataframe thead th {\n",
       "        text-align: right;\n",
       "    }\n",
       "</style>\n",
       "<table border=\"1\" class=\"dataframe\">\n",
       "  <thead>\n",
       "    <tr style=\"text-align: right;\">\n",
       "      <th></th>\n",
       "      <th>show_id</th>\n",
       "      <th>type</th>\n",
       "      <th>title</th>\n",
       "      <th>director</th>\n",
       "      <th>cast</th>\n",
       "      <th>country</th>\n",
       "      <th>date_added</th>\n",
       "      <th>release_year</th>\n",
       "      <th>rating</th>\n",
       "      <th>duration</th>\n",
       "      <th>listed_in</th>\n",
       "      <th>description</th>\n",
       "    </tr>\n",
       "  </thead>\n",
       "  <tbody>\n",
       "    <tr>\n",
       "      <th>0</th>\n",
       "      <td>s1</td>\n",
       "      <td>Movie</td>\n",
       "      <td>Dick Johnson Is Dead</td>\n",
       "      <td>Kirsten Johnson</td>\n",
       "      <td>NaN</td>\n",
       "      <td>United States</td>\n",
       "      <td>September 25, 2021</td>\n",
       "      <td>2020</td>\n",
       "      <td>PG-13</td>\n",
       "      <td>90 min</td>\n",
       "      <td>Documentaries</td>\n",
       "      <td>As her father nears the end of his life, filmm...</td>\n",
       "    </tr>\n",
       "    <tr>\n",
       "      <th>9</th>\n",
       "      <td>s10</td>\n",
       "      <td>Movie</td>\n",
       "      <td>The Starling</td>\n",
       "      <td>Theodore Melfi</td>\n",
       "      <td>Melissa McCarthy, Chris O'Dowd, Kevin Kline, T...</td>\n",
       "      <td>United States</td>\n",
       "      <td>September 24, 2021</td>\n",
       "      <td>2021</td>\n",
       "      <td>PG-13</td>\n",
       "      <td>104 min</td>\n",
       "      <td>Comedies, Dramas</td>\n",
       "      <td>A woman adjusting to life after a loss contend...</td>\n",
       "    </tr>\n",
       "    <tr>\n",
       "      <th>15</th>\n",
       "      <td>s16</td>\n",
       "      <td>TV Show</td>\n",
       "      <td>Dear White People</td>\n",
       "      <td>NaN</td>\n",
       "      <td>Logan Browning, Brandon P. Bell, DeRon Horton,...</td>\n",
       "      <td>United States</td>\n",
       "      <td>September 22, 2021</td>\n",
       "      <td>2021</td>\n",
       "      <td>TV-MA</td>\n",
       "      <td>4 Seasons</td>\n",
       "      <td>TV Comedies, TV Dramas</td>\n",
       "      <td>Students of color navigate the daily slights a...</td>\n",
       "    </tr>\n",
       "    <tr>\n",
       "      <th>27</th>\n",
       "      <td>s28</td>\n",
       "      <td>Movie</td>\n",
       "      <td>Grown Ups</td>\n",
       "      <td>Dennis Dugan</td>\n",
       "      <td>Adam Sandler, Kevin James, Chris Rock, David S...</td>\n",
       "      <td>United States</td>\n",
       "      <td>September 20, 2021</td>\n",
       "      <td>2010</td>\n",
       "      <td>PG-13</td>\n",
       "      <td>103 min</td>\n",
       "      <td>Comedies</td>\n",
       "      <td>Mourning the loss of their beloved junior high...</td>\n",
       "    </tr>\n",
       "    <tr>\n",
       "      <th>28</th>\n",
       "      <td>s29</td>\n",
       "      <td>Movie</td>\n",
       "      <td>Dark Skies</td>\n",
       "      <td>Scott Stewart</td>\n",
       "      <td>Keri Russell, Josh Hamilton, J.K. Simmons, Dak...</td>\n",
       "      <td>United States</td>\n",
       "      <td>September 19, 2021</td>\n",
       "      <td>2013</td>\n",
       "      <td>PG-13</td>\n",
       "      <td>97 min</td>\n",
       "      <td>Horror Movies, Sci-Fi &amp; Fantasy</td>\n",
       "      <td>A family’s idyllic suburban life shatters when...</td>\n",
       "    </tr>\n",
       "  </tbody>\n",
       "</table>\n",
       "</div>"
      ],
      "text/plain": [
       "   show_id     type                 title         director  \\\n",
       "0       s1    Movie  Dick Johnson Is Dead  Kirsten Johnson   \n",
       "9      s10    Movie          The Starling   Theodore Melfi   \n",
       "15     s16  TV Show     Dear White People              NaN   \n",
       "27     s28    Movie             Grown Ups     Dennis Dugan   \n",
       "28     s29    Movie            Dark Skies    Scott Stewart   \n",
       "\n",
       "                                                 cast        country  \\\n",
       "0                                                 NaN  United States   \n",
       "9   Melissa McCarthy, Chris O'Dowd, Kevin Kline, T...  United States   \n",
       "15  Logan Browning, Brandon P. Bell, DeRon Horton,...  United States   \n",
       "27  Adam Sandler, Kevin James, Chris Rock, David S...  United States   \n",
       "28  Keri Russell, Josh Hamilton, J.K. Simmons, Dak...  United States   \n",
       "\n",
       "            date_added  release_year rating   duration  \\\n",
       "0   September 25, 2021          2020  PG-13     90 min   \n",
       "9   September 24, 2021          2021  PG-13    104 min   \n",
       "15  September 22, 2021          2021  TV-MA  4 Seasons   \n",
       "27  September 20, 2021          2010  PG-13    103 min   \n",
       "28  September 19, 2021          2013  PG-13     97 min   \n",
       "\n",
       "                          listed_in  \\\n",
       "0                     Documentaries   \n",
       "9                  Comedies, Dramas   \n",
       "15           TV Comedies, TV Dramas   \n",
       "27                         Comedies   \n",
       "28  Horror Movies, Sci-Fi & Fantasy   \n",
       "\n",
       "                                          description  \n",
       "0   As her father nears the end of his life, filmm...  \n",
       "9   A woman adjusting to life after a loss contend...  \n",
       "15  Students of color navigate the daily slights a...  \n",
       "27  Mourning the loss of their beloved junior high...  \n",
       "28  A family’s idyllic suburban life shatters when...  "
      ]
     },
     "execution_count": 5,
     "metadata": {},
     "output_type": "execute_result"
    }
   ],
   "source": [
    "df_domestic.head()"
   ]
  },
  {
   "cell_type": "code",
   "execution_count": 6,
   "id": "54b1c345",
   "metadata": {},
   "outputs": [
    {
     "data": {
      "text/html": [
       "<div>\n",
       "<style scoped>\n",
       "    .dataframe tbody tr th:only-of-type {\n",
       "        vertical-align: middle;\n",
       "    }\n",
       "\n",
       "    .dataframe tbody tr th {\n",
       "        vertical-align: top;\n",
       "    }\n",
       "\n",
       "    .dataframe thead th {\n",
       "        text-align: right;\n",
       "    }\n",
       "</style>\n",
       "<table border=\"1\" class=\"dataframe\">\n",
       "  <thead>\n",
       "    <tr style=\"text-align: right;\">\n",
       "      <th></th>\n",
       "      <th>show_id</th>\n",
       "      <th>type</th>\n",
       "      <th>title</th>\n",
       "      <th>director</th>\n",
       "      <th>cast</th>\n",
       "      <th>country</th>\n",
       "      <th>date_added</th>\n",
       "      <th>release_year</th>\n",
       "      <th>rating</th>\n",
       "      <th>duration</th>\n",
       "      <th>listed_in</th>\n",
       "      <th>description</th>\n",
       "    </tr>\n",
       "  </thead>\n",
       "  <tbody>\n",
       "    <tr>\n",
       "      <th>1</th>\n",
       "      <td>s2</td>\n",
       "      <td>TV Show</td>\n",
       "      <td>Blood &amp; Water</td>\n",
       "      <td>NaN</td>\n",
       "      <td>Ama Qamata, Khosi Ngema, Gail Mabalane, Thaban...</td>\n",
       "      <td>South Africa</td>\n",
       "      <td>September 24, 2021</td>\n",
       "      <td>2021</td>\n",
       "      <td>TV-MA</td>\n",
       "      <td>2 Seasons</td>\n",
       "      <td>International TV Shows, TV Dramas, TV Mysteries</td>\n",
       "      <td>After crossing paths at a party, a Cape Town t...</td>\n",
       "    </tr>\n",
       "    <tr>\n",
       "      <th>2</th>\n",
       "      <td>s3</td>\n",
       "      <td>TV Show</td>\n",
       "      <td>Ganglands</td>\n",
       "      <td>Julien Leclercq</td>\n",
       "      <td>Sami Bouajila, Tracy Gotoas, Samuel Jouy, Nabi...</td>\n",
       "      <td>NaN</td>\n",
       "      <td>September 24, 2021</td>\n",
       "      <td>2021</td>\n",
       "      <td>TV-MA</td>\n",
       "      <td>1 Season</td>\n",
       "      <td>Crime TV Shows, International TV Shows, TV Act...</td>\n",
       "      <td>To protect his family from a powerful drug lor...</td>\n",
       "    </tr>\n",
       "    <tr>\n",
       "      <th>3</th>\n",
       "      <td>s4</td>\n",
       "      <td>TV Show</td>\n",
       "      <td>Jailbirds New Orleans</td>\n",
       "      <td>NaN</td>\n",
       "      <td>NaN</td>\n",
       "      <td>NaN</td>\n",
       "      <td>September 24, 2021</td>\n",
       "      <td>2021</td>\n",
       "      <td>TV-MA</td>\n",
       "      <td>1 Season</td>\n",
       "      <td>Docuseries, Reality TV</td>\n",
       "      <td>Feuds, flirtations and toilet talk go down amo...</td>\n",
       "    </tr>\n",
       "    <tr>\n",
       "      <th>4</th>\n",
       "      <td>s5</td>\n",
       "      <td>TV Show</td>\n",
       "      <td>Kota Factory</td>\n",
       "      <td>NaN</td>\n",
       "      <td>Mayur More, Jitendra Kumar, Ranjan Raj, Alam K...</td>\n",
       "      <td>India</td>\n",
       "      <td>September 24, 2021</td>\n",
       "      <td>2021</td>\n",
       "      <td>TV-MA</td>\n",
       "      <td>2 Seasons</td>\n",
       "      <td>International TV Shows, Romantic TV Shows, TV ...</td>\n",
       "      <td>In a city of coaching centers known to train I...</td>\n",
       "    </tr>\n",
       "    <tr>\n",
       "      <th>5</th>\n",
       "      <td>s6</td>\n",
       "      <td>TV Show</td>\n",
       "      <td>Midnight Mass</td>\n",
       "      <td>Mike Flanagan</td>\n",
       "      <td>Kate Siegel, Zach Gilford, Hamish Linklater, H...</td>\n",
       "      <td>NaN</td>\n",
       "      <td>September 24, 2021</td>\n",
       "      <td>2021</td>\n",
       "      <td>TV-MA</td>\n",
       "      <td>1 Season</td>\n",
       "      <td>TV Dramas, TV Horror, TV Mysteries</td>\n",
       "      <td>The arrival of a charismatic young priest brin...</td>\n",
       "    </tr>\n",
       "  </tbody>\n",
       "</table>\n",
       "</div>"
      ],
      "text/plain": [
       "  show_id     type                  title         director  \\\n",
       "1      s2  TV Show          Blood & Water              NaN   \n",
       "2      s3  TV Show              Ganglands  Julien Leclercq   \n",
       "3      s4  TV Show  Jailbirds New Orleans              NaN   \n",
       "4      s5  TV Show           Kota Factory              NaN   \n",
       "5      s6  TV Show          Midnight Mass    Mike Flanagan   \n",
       "\n",
       "                                                cast       country  \\\n",
       "1  Ama Qamata, Khosi Ngema, Gail Mabalane, Thaban...  South Africa   \n",
       "2  Sami Bouajila, Tracy Gotoas, Samuel Jouy, Nabi...           NaN   \n",
       "3                                                NaN           NaN   \n",
       "4  Mayur More, Jitendra Kumar, Ranjan Raj, Alam K...         India   \n",
       "5  Kate Siegel, Zach Gilford, Hamish Linklater, H...           NaN   \n",
       "\n",
       "           date_added  release_year rating   duration  \\\n",
       "1  September 24, 2021          2021  TV-MA  2 Seasons   \n",
       "2  September 24, 2021          2021  TV-MA   1 Season   \n",
       "3  September 24, 2021          2021  TV-MA   1 Season   \n",
       "4  September 24, 2021          2021  TV-MA  2 Seasons   \n",
       "5  September 24, 2021          2021  TV-MA   1 Season   \n",
       "\n",
       "                                           listed_in  \\\n",
       "1    International TV Shows, TV Dramas, TV Mysteries   \n",
       "2  Crime TV Shows, International TV Shows, TV Act...   \n",
       "3                             Docuseries, Reality TV   \n",
       "4  International TV Shows, Romantic TV Shows, TV ...   \n",
       "5                 TV Dramas, TV Horror, TV Mysteries   \n",
       "\n",
       "                                         description  \n",
       "1  After crossing paths at a party, a Cape Town t...  \n",
       "2  To protect his family from a powerful drug lor...  \n",
       "3  Feuds, flirtations and toilet talk go down amo...  \n",
       "4  In a city of coaching centers known to train I...  \n",
       "5  The arrival of a charismatic young priest brin...  "
      ]
     },
     "execution_count": 6,
     "metadata": {},
     "output_type": "execute_result"
    }
   ],
   "source": [
    "df_inter.head()"
   ]
  },
  {
   "cell_type": "markdown",
   "id": "309d51de",
   "metadata": {},
   "source": [
    "### Ploting"
   ]
  },
  {
   "cell_type": "code",
   "execution_count": 7,
   "id": "597c293e",
   "metadata": {},
   "outputs": [],
   "source": [
    "g_dom = nx.from_pandas_edgelist(df_domestic, 'release_year', 'rating')"
   ]
  },
  {
   "cell_type": "code",
   "execution_count": 8,
   "id": "98e97ea4",
   "metadata": {},
   "outputs": [
    {
     "name": "stdout",
     "output_type": "stream",
     "text": [
      "Edges and Nodes for USA\n",
      "Number of nodes: 86\n",
      "Number of nodes: 319\n"
     ]
    }
   ],
   "source": [
    "print('Edges and Nodes for USA')\n",
    "print('Number of nodes:', g_dom.order())\n",
    "print('Number of nodes:', g_dom.size())"
   ]
  },
  {
   "cell_type": "code",
   "execution_count": 9,
   "id": "67540f1a",
   "metadata": {},
   "outputs": [
    {
     "data": {
      "image/png": "[encoded data removed]",
      "text/plain": [
       "<Figure size 432x288 with 1 Axes>"
      ]
     },
     "metadata": {},
     "output_type": "display_data"
    }
   ],
   "source": [
    "nx.draw(g_dom, node_color='lightblue', with_labels = True)"
   ]
  },
  {
   "cell_type": "code",
   "execution_count": 10,
   "id": "d492f53f",
   "metadata": {},
   "outputs": [],
   "source": [
    "g_inter = nx.from_pandas_edgelist(df_inter, 'release_year', 'rating')"
   ]
  },
  {
   "cell_type": "code",
   "execution_count": 11,
   "id": "2a09224d",
   "metadata": {},
   "outputs": [
    {
     "name": "stdout",
     "output_type": "stream",
     "text": [
      "Edges and Nodes for International\n",
      "Number of nodes: 84\n",
      "Number of nodes: 352\n"
     ]
    }
   ],
   "source": [
    "print('Edges and Nodes for International')\n",
    "print('Number of nodes:', g_inter.order())\n",
    "print('Number of nodes:', g_inter.size())"
   ]
  },
  {
   "cell_type": "code",
   "execution_count": 12,
   "id": "eead89ca",
   "metadata": {},
   "outputs": [
    {
     "data": {
      "image/png": "[encoded data removed]",
      "text/plain": [
       "<Figure size 432x288 with 1 Axes>"
      ]
     },
     "metadata": {},
     "output_type": "display_data"
    }
   ],
   "source": [
    "nx.draw(g_inter, node_color='lightblue', with_labels = True)"
   ]
  },
  {
   "cell_type": "markdown",
   "id": "e20d0819",
   "metadata": {},
   "source": [
    "I compute the centrality measures for both data subsets and compare them.\n",
    "The R rating has the highest centrality scores in the national dataset, while TV-MA has the highest scores in the international dataset.\n",
    "- Grade: The grade in the international data set is higher than the national data set. 0.161084 vs. 0.5066173.\n",
    "- Eigenvector: The R classification value is very close to the TV-MA value, 0.2875 and 0.2813.\n",
    "- Between: The values for the international data set exceed the national data set. 0.161084 vs. 0.158999.\n",
    "- Proximity: The values of the international data set also exceed the national data set. or.585714 vs. 0.551020."
   ]
  },
  {
   "cell_type": "markdown",
   "id": "9ccd4a24",
   "metadata": {},
   "source": [
    "USA"
   ]
  },
  {
   "cell_type": "code",
   "execution_count": 13,
   "id": "b4c82a97",
   "metadata": {},
   "outputs": [],
   "source": [
    "eig = nx.eigenvector_centrality(g_dom).values()\n",
    "cent = nx.degree_centrality(g_dom).values()\n",
    "between_cent = nx.betweenness_centrality(g_dom).values()\n",
    "close_cent = nx.closeness_centrality(g_dom).values()"
   ]
  },
  {
   "cell_type": "code",
   "execution_count": 14,
   "id": "f6f0b548",
   "metadata": {},
   "outputs": [
    {
     "data": {
      "text/html": [
       "<div>\n",
       "<style scoped>\n",
       "    .dataframe tbody tr th:only-of-type {\n",
       "        vertical-align: middle;\n",
       "    }\n",
       "\n",
       "    .dataframe tbody tr th {\n",
       "        vertical-align: top;\n",
       "    }\n",
       "\n",
       "    .dataframe thead th {\n",
       "        text-align: right;\n",
       "    }\n",
       "</style>\n",
       "<table border=\"1\" class=\"dataframe\">\n",
       "  <thead>\n",
       "    <tr style=\"text-align: right;\">\n",
       "      <th></th>\n",
       "      <th>Eigenvector</th>\n",
       "      <th>Degree</th>\n",
       "      <th>Betweenness</th>\n",
       "      <th>Closeness</th>\n",
       "    </tr>\n",
       "  </thead>\n",
       "  <tbody>\n",
       "    <tr>\n",
       "      <th>2020</th>\n",
       "      <td>0.146380</td>\n",
       "      <td>0.117647</td>\n",
       "      <td>0.015659</td>\n",
       "      <td>0.508982</td>\n",
       "    </tr>\n",
       "    <tr>\n",
       "      <th>PG-13</th>\n",
       "      <td>0.275105</td>\n",
       "      <td>0.447059</td>\n",
       "      <td>0.105920</td>\n",
       "      <td>0.521472</td>\n",
       "    </tr>\n",
       "    <tr>\n",
       "      <th>2021</th>\n",
       "      <td>0.136319</td>\n",
       "      <td>0.105882</td>\n",
       "      <td>0.008699</td>\n",
       "      <td>0.474860</td>\n",
       "    </tr>\n",
       "    <tr>\n",
       "      <th>TV-MA</th>\n",
       "      <td>0.222689</td>\n",
       "      <td>0.352941</td>\n",
       "      <td>0.071366</td>\n",
       "      <td>0.474860</td>\n",
       "    </tr>\n",
       "    <tr>\n",
       "      <th>2010</th>\n",
       "      <td>0.133425</td>\n",
       "      <td>0.117647</td>\n",
       "      <td>0.032277</td>\n",
       "      <td>0.480226</td>\n",
       "    </tr>\n",
       "  </tbody>\n",
       "</table>\n",
       "</div>"
      ],
      "text/plain": [
       "       Eigenvector    Degree  Betweenness  Closeness\n",
       "2020      0.146380  0.117647     0.015659   0.508982\n",
       "PG-13     0.275105  0.447059     0.105920   0.521472\n",
       "2021      0.136319  0.105882     0.008699   0.474860\n",
       "TV-MA     0.222689  0.352941     0.071366   0.474860\n",
       "2010      0.133425  0.117647     0.032277   0.480226"
      ]
     },
     "execution_count": 14,
     "metadata": {},
     "output_type": "execute_result"
    }
   ],
   "source": [
    "data_tuples = list(zip(eig,cent,between_cent,close_cent))\n",
    "dom_table = pd.DataFrame(data_tuples, columns=['Eigenvector','Degree','Betweenness','Closeness'])\n",
    "dom_table.index = list(g_dom)\n",
    "dom_table.head()"
   ]
  },
  {
   "cell_type": "markdown",
   "id": "de398fc2",
   "metadata": {},
   "source": [
    "INTERNATIONAL"
   ]
  },
  {
   "cell_type": "code",
   "execution_count": 15,
   "id": "97dc173f",
   "metadata": {},
   "outputs": [],
   "source": [
    "eig = nx.eigenvector_centrality(g_inter).values()\n",
    "cent = nx.degree_centrality(g_inter).values()\n",
    "between_cent = nx.betweenness_centrality(g_inter).values()\n",
    "close_cent = nx.closeness_centrality(g_inter).values()"
   ]
  },
  {
   "cell_type": "code",
   "execution_count": 16,
   "id": "793790c7",
   "metadata": {},
   "outputs": [
    {
     "data": {
      "text/html": [
       "<div>\n",
       "<style scoped>\n",
       "    .dataframe tbody tr th:only-of-type {\n",
       "        vertical-align: middle;\n",
       "    }\n",
       "\n",
       "    .dataframe tbody tr th {\n",
       "        vertical-align: top;\n",
       "    }\n",
       "\n",
       "    .dataframe thead th {\n",
       "        text-align: right;\n",
       "    }\n",
       "</style>\n",
       "<table border=\"1\" class=\"dataframe\">\n",
       "  <thead>\n",
       "    <tr style=\"text-align: right;\">\n",
       "      <th></th>\n",
       "      <th>Eigenvector</th>\n",
       "      <th>Degree</th>\n",
       "      <th>Betweenness</th>\n",
       "      <th>Closeness</th>\n",
       "    </tr>\n",
       "  </thead>\n",
       "  <tbody>\n",
       "    <tr>\n",
       "      <th>2021</th>\n",
       "      <td>0.128285</td>\n",
       "      <td>0.108434</td>\n",
       "      <td>0.005619</td>\n",
       "      <td>0.509202</td>\n",
       "    </tr>\n",
       "    <tr>\n",
       "      <th>TV-MA</th>\n",
       "      <td>0.276788</td>\n",
       "      <td>0.554217</td>\n",
       "      <td>0.151736</td>\n",
       "      <td>0.580420</td>\n",
       "    </tr>\n",
       "    <tr>\n",
       "      <th>PG</th>\n",
       "      <td>0.213271</td>\n",
       "      <td>0.361446</td>\n",
       "      <td>0.033551</td>\n",
       "      <td>0.474286</td>\n",
       "    </tr>\n",
       "    <tr>\n",
       "      <th>1993</th>\n",
       "      <td>0.093674</td>\n",
       "      <td>0.072289</td>\n",
       "      <td>0.002323</td>\n",
       "      <td>0.479769</td>\n",
       "    </tr>\n",
       "    <tr>\n",
       "      <th>TV-14</th>\n",
       "      <td>0.305841</td>\n",
       "      <td>0.722892</td>\n",
       "      <td>0.377219</td>\n",
       "      <td>0.721739</td>\n",
       "    </tr>\n",
       "  </tbody>\n",
       "</table>\n",
       "</div>"
      ],
      "text/plain": [
       "       Eigenvector    Degree  Betweenness  Closeness\n",
       "2021      0.128285  0.108434     0.005619   0.509202\n",
       "TV-MA     0.276788  0.554217     0.151736   0.580420\n",
       "PG        0.213271  0.361446     0.033551   0.474286\n",
       "1993      0.093674  0.072289     0.002323   0.479769\n",
       "TV-14     0.305841  0.722892     0.377219   0.721739"
      ]
     },
     "execution_count": 16,
     "metadata": {},
     "output_type": "execute_result"
    }
   ],
   "source": [
    "data_tuples = list(zip(eig,cent,between_cent,close_cent))\n",
    "inter_table = pd.DataFrame(data_tuples, columns=['Eigenvector','Degree','Betweenness','Closeness'])\n",
    "inter_table.index = list(g_inter)\n",
    "inter_table.head()"
   ]
  },
  {
   "cell_type": "code",
   "execution_count": 17,
   "id": "3e3af7d2",
   "metadata": {},
   "outputs": [
    {
     "name": "stdout",
     "output_type": "stream",
     "text": [
      "Max values for USA\n",
      "Eigenvector     R\n",
      "Degree         PG\n",
      "Betweenness    PG\n",
      "Closeness      PG\n",
      "dtype: object\n",
      "Eigenvector    0.291396\n",
      "Degree         0.517647\n",
      "Betweenness    0.213953\n",
      "Closeness      0.562914\n",
      "dtype: float64\n"
     ]
    }
   ],
   "source": [
    "print('Max values for USA')\n",
    "print(dom_table.idxmax())\n",
    "print(dom_table.max())"
   ]
  },
  {
   "cell_type": "code",
   "execution_count": 18,
   "id": "152c5a16",
   "metadata": {},
   "outputs": [
    {
     "name": "stdout",
     "output_type": "stream",
     "text": [
      "Max values for International\n",
      "Eigenvector    TV-14\n",
      "Degree         TV-14\n",
      "Betweenness    TV-14\n",
      "Closeness      TV-14\n",
      "dtype: object\n",
      "Eigenvector    0.305841\n",
      "Degree         0.722892\n",
      "Betweenness    0.377219\n",
      "Closeness      0.721739\n",
      "dtype: float64\n"
     ]
    }
   ],
   "source": [
    "print('Max values for International')\n",
    "print(inter_table.idxmax())\n",
    "print(inter_table.max())"
   ]
  },
  {
   "cell_type": "markdown",
   "id": "ace3ac59",
   "metadata": {},
   "source": [
    "Comparing both tables I can see that the R score has the highest value for most of the measures of centrality in the household dataset.  The TV-14 has the highest overall values for all measures of centrality."
   ]
  },
  {
   "cell_type": "markdown",
   "id": "75212874",
   "metadata": {},
   "source": [
    "#### Statistic analysis\n",
    "Then lets create a function that accepts USA and international data and performs statistical analysis. This function returns the T-score (t_stat), degrees of freedom (df), critical values (cv), and p-values (p)."
   ]
  },
  {
   "cell_type": "code",
   "execution_count": 19,
   "id": "c4d5fbd7",
   "metadata": {},
   "outputs": [],
   "source": [
    "def intependent_ttest(dom_table, inter_table, alpha):\n",
    "    \n",
    "    mean_dom, mean_inter = mean(dom_table), mean(inter_table)\n",
    "      \n",
    "    n1, n2 = len(dom_table), len(inter_table)\n",
    "    \n",
    "    d1 = (dom_table.sum() - inter_table.sum()) ** 2\n",
    "    \n",
    "    d2 = dom_table.sum() - inter_table.sum()\n",
    "    \n",
    "    std_dom, std_inter = dom_table.std(), inter_table.mean()\n",
    "    \n",
    "    # calculate standard error\n",
    "    se_dom, se_inter =dom_table.sem(), inter_table.sem()\n",
    "    \n",
    "    sed = np.sqrt(se_dom ** 2 + se_inter ** 2)\n",
    "    \n",
    "    # calculate t-score\n",
    "    t_stat = (mean_dom - mean_inter) / sed\n",
    "    \n",
    "    # degrees of freedom\n",
    "    df = n1 + n2 - 2\n",
    "    \n",
    "    # critical value\n",
    "    alpha = 0.05\n",
    "    cv = t.ppf(1.0 - alpha, df)\n",
    "    \n",
    "    # calculate p values\n",
    "    p = (1 - t.cdf(abs(t_stat), df)) * 2\n",
    "    \n",
    "    return t_stat,df,cv, p"
   ]
  },
  {
   "cell_type": "code",
   "execution_count": 20,
   "id": "6728061a",
   "metadata": {},
   "outputs": [
    {
     "name": "stderr",
     "output_type": "stream",
     "text": [
      "C:\\Users\\drake\\anaconda3\\lib\\site-packages\\numpy\\core\\fromnumeric.py:3472: FutureWarning: In a future version, DataFrame.mean(axis=None) will return a scalar mean over the entire DataFrame. To retain the old behavior, use 'frame.mean(axis=0)' or just 'frame.mean()'\n",
      "  return mean(axis=axis, dtype=dtype, out=out, **kwargs)\n"
     ]
    },
    {
     "data": {
      "text/plain": [
       "(Eigenvector   -0.400040\n",
       " Degree        -0.729863\n",
       " Betweenness    0.391733\n",
       " Closeness     -4.586512\n",
       " dtype: float64,\n",
       " 168,\n",
       " 1.6539742082421154,\n",
       " array([6.89635314e-01, 4.66490626e-01, 6.95751819e-01, 8.77409277e-06]))"
      ]
     },
     "execution_count": 20,
     "metadata": {},
     "output_type": "execute_result"
    }
   ],
   "source": [
    "intependent_ttest(dom_table, inter_table, 0.05)"
   ]
  },
  {
   "cell_type": "markdown",
   "id": "1a25a356",
   "metadata": {},
   "source": [
    "- T-score: I can see that for most measures of centrality, it is negative, which means that the mean of the international data set is greater than the USA meann. The t-score is positive and closest to zero for betweenness centrality. Closeness centrality is higher, showing that there is a significantly larger difference in this measure between the bot data sets.\n",
    "- Degrees of Freedom: The degrees of freedom are high - 168, which exceeds the number of nodes in both data sets.\n",
    "- Critical Values: The value is 1.6539\n",
    "- P-Palue: is above 0.05 indicates that it could be a NULL hypothesis"
   ]
  }
 ],
 "metadata": {
  "kernelspec": {
   "display_name": "Python 3 (ipykernel)",
   "language": "python",
   "name": "python3"
  },
  "language_info": {
   "codemirror_mode": {
    "name": "ipython",
    "version": 3
   },
   "file_extension": ".py",
   "mimetype": "text/x-python",
   "name": "python",
   "nbconvert_exporter": "python",
   "pygments_lexer": "ipython3",
   "version": "3.9.13"
  }
 },
 "nbformat": 4,
 "nbformat_minor": 5
}
